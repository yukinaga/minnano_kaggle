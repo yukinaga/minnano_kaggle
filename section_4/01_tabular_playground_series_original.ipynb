{
  "nbformat": 4,
  "nbformat_minor": 0,
  "metadata": {
    "kernelspec": {
      "language": "python",
      "display_name": "Python 3",
      "name": "python3"
    },
    "language_info": {
      "name": "python",
      "version": "3.7.10",
      "mimetype": "text/x-python",
      "codemirror_mode": {
        "name": "ipython",
        "version": 3
      },
      "pygments_lexer": "ipython3",
      "nbconvert_exporter": "python",
      "file_extension": ".py"
    },
    "colab": {
      "name": "01_tabular_playground_series_original.ipynb",
      "provenance": [],
      "collapsed_sections": [],
      "include_colab_link": true
    }
  },
  "cells": [
    {
      "cell_type": "markdown",
      "metadata": {
        "id": "view-in-github",
        "colab_type": "text"
      },
      "source": [
        "<a href=\"https://colab.research.google.com/github/yukinaga/minnano_kaggle/blob/main/section_4/01_tabular_playground_series_original.ipynb\" target=\"_parent\"><img src=\"https://colab.research.google.com/assets/colab-badge.svg\" alt=\"Open In Colab\"/></a>"
      ]
    },
    {
      "cell_type": "markdown",
      "metadata": {
        "id": "_SKBArDhOm0h"
      },
      "source": [
        "# Tabular Playground Series - Jan 2022に挑戦しよう\n",
        "Kaggleグッズの3カ国にわたる販売数を予測しましょう。 "
      ]
    },
    {
      "cell_type": "markdown",
      "metadata": {
        "id": "vrrLkhAYOm0h"
      },
      "source": [
        "## データの読み込み\n",
        "Tabular Playground Series - Jan 2022のデータを読み込みます。  \n",
        "以下のページからデータをダウロードして、「train.csv」「test.csv」をノートブック環境にアップします。  \n",
        "https://www.kaggle.com/c/titanic/data\n",
        "\n",
        "訓練データには販売数を表す\"num_sold\"の列がありますが、テストデータにはありません。  \n",
        "訓練済みのモデルに、テストデータを入力して判定した結果を提出することになります。  \n"
      ]
    },
    {
      "cell_type": "code",
      "metadata": {
        "execution": {
          "iopub.status.busy": "2021-06-07T06:24:30.673433Z",
          "iopub.execute_input": "2021-06-07T06:24:30.674071Z",
          "iopub.status.idle": "2021-06-07T06:24:30.743367Z",
          "shell.execute_reply.started": "2021-06-07T06:24:30.674016Z",
          "shell.execute_reply": "2021-06-07T06:24:30.741854Z"
        },
        "trusted": true,
        "id": "HhBVtZ25Om0i"
      },
      "source": [
        "import numpy as np\n",
        "import pandas as pd\n",
        "import matplotlib.pyplot as plt\n",
        "\n",
        "from sklearn.model_selection import train_test_split\n",
        "\n",
        "import lightgbm as lgb\n",
        "\n",
        "\n",
        "train_data = pd.read_csv(\"train.csv\")  # 訓練データ\n",
        "test_data = pd.read_csv(\"test.csv\") # テストデータ\n",
        "\n",
        "test_id = test_data[\"row_id\"]  # 結果の提出時に使用\n",
        "\n",
        "train_data.head()"
      ],
      "execution_count": null,
      "outputs": []
    },
    {
      "cell_type": "markdown",
      "metadata": {
        "id": "4vBqoanyOm0j"
      },
      "source": [
        "`info()`によりデータの全体像を確認することができます。  \n",
        "Non-Null Countにより欠損していないデータの数が確認できるので、データの欠損が存在するかどうか確認しておきます。  "
      ]
    },
    {
      "cell_type": "code",
      "metadata": {
        "execution": {
          "iopub.status.busy": "2021-06-07T06:24:30.770134Z",
          "iopub.execute_input": "2021-06-07T06:24:30.770445Z",
          "iopub.status.idle": "2021-06-07T06:24:30.811361Z",
          "shell.execute_reply.started": "2021-06-07T06:24:30.770415Z",
          "shell.execute_reply": "2021-06-07T06:24:30.810241Z"
        },
        "trusted": true,
        "id": "ifZJ1_1rOm0j"
      },
      "source": [
        "train_data.info()\n",
        "test_data.info()"
      ],
      "execution_count": null,
      "outputs": []
    },
    {
      "cell_type": "markdown",
      "source": [
        "## データの加工\n",
        "データを加工し、使用可能な形にします。"
      ],
      "metadata": {
        "id": "sW2dwjT2kYqQ"
      }
    },
    {
      "cell_type": "code",
      "metadata": {
        "execution": {
          "iopub.status.busy": "2021-06-07T06:24:30.813015Z",
          "iopub.execute_input": "2021-06-07T06:24:30.813644Z",
          "iopub.status.idle": "2021-06-07T06:24:30.829531Z",
          "shell.execute_reply.started": "2021-06-07T06:24:30.813592Z",
          "shell.execute_reply": "2021-06-07T06:24:30.827901Z"
        },
        "trusted": true,
        "id": "bCLtOaQ7Om0k"
      },
      "source": [
        "data = pd.concat([train_data, test_data], sort=False)  # テストデータ、訓練データを結合\n",
        "\n",
        "# カテゴリデータの変換\n",
        "data[\"country\"].replace([\"Finland\", \"Norway\", \"Sweden\"], [0, 1, 2], inplace=True)\n",
        "data[\"store\"].replace([\"KaggleMart\", \"KaggleRama\"], [0, 1], inplace=True)\n",
        "data[\"product\"].replace([\"Kaggle Mug\", \"Kaggle Hat\", \"Kaggle Sticker\"], [0, 1, 2], inplace=True)\n",
        "\n",
        "# 新しい特徴量の作成\n",
        "data[\"date\"] = pd.to_datetime(data[\"date\"])\n",
        "data[\"day\"] = data.date.dt.day\n",
        "data[\"month\"] = data.date.dt.month\n",
        "data[\"year\"] = data.date.dt.year\n",
        "data[\"weekday\"] = data.date.dt.weekday\n",
        "\n",
        "# 不要な特徴量の削除\n",
        "data.drop([\"row_id\", \"date\"], axis=1, inplace=True)\n",
        "\n",
        "# 入力と正解の作成\n",
        "train_data = data[:len(train_data)]\n",
        "test_data = data[len(train_data):]\n",
        "t = train_data[\"num_sold\"]  # 正解\n",
        "x_train = train_data.drop(\"num_sold\", axis=1)  # 訓練時の入力\n",
        "x_test = test_data.drop(\"num_sold\", axis=1)  # テスト時の入力\n",
        "\n",
        "x_train.head()"
      ],
      "execution_count": null,
      "outputs": []
    },
    {
      "cell_type": "markdown",
      "source": [
        "## データの分割\n",
        "訓練用データを訓練用と検証用に分割します。"
      ],
      "metadata": {
        "id": "UvCs34hNk8Ue"
      }
    },
    {
      "cell_type": "code",
      "source": [
        "x_train, x_valid, t_train, t_valid = train_test_split(x_train, t, test_size=0.3)"
      ],
      "metadata": {
        "id": "sVUg5z780_NI"
      },
      "execution_count": null,
      "outputs": []
    },
    {
      "cell_type": "markdown",
      "source": [
        ""
      ],
      "metadata": {
        "id": "Ui3focI0-gxL"
      }
    },
    {
      "cell_type": "markdown",
      "source": [
        "## モデルの訓練\n",
        "機械学習のアルゴリズムには、決定木をベースにした「LightGBM」を使います。  \n",
        "今回は販売数を予測するので、分類問題ではなく回帰問題です。  \n",
        "LightGBMのライブラリでは、「LGBMRegressor」により回帰問題を扱うことができます。  \n",
        "https://lightgbm.readthedocs.io/en/latest/pythonapi/lightgbm.LGBMRegressor.html\n"
      ],
      "metadata": {
        "id": "Zhxmw8thl7fY"
      }
    },
    {
      "cell_type": "code",
      "source": [
        "categorical_features = [\"country\", \"store\", \"product\", \"month\", \"year\", \"weekday\"]\n",
        "\n",
        "# モデルの学習\n",
        "model = lgb.LGBMRegressor() # モデルのインスタンスの作成\n",
        "\n",
        "# モデルの訓練\n",
        "model = model.fit(x_train, t_train, eval_set=[(x_train, t_train), (x_valid, t_valid)],\n",
        "                    categorical_feature=categorical_features)\n",
        "\n",
        "# 誤差の推移を表示\n",
        "lgb.plot_metric(model)"
      ],
      "metadata": {
        "id": "rh3dKpbTuXBl"
      },
      "execution_count": null,
      "outputs": []
    },
    {
      "cell_type": "markdown",
      "source": [
        "## 提出用のデータを作成\n",
        "訓練用のモデル、テストデータを使って予測を行います。"
      ],
      "metadata": {
        "id": "JcQ_RZ5T_5B-"
      }
    },
    {
      "cell_type": "code",
      "source": [
        "# 訓練済みのモデルを使って予測\n",
        "y_test = model.predict(x_test)\n",
        "print(y_test)"
      ],
      "metadata": {
        "id": "ayM5zxc8y9PZ"
      },
      "execution_count": null,
      "outputs": []
    },
    {
      "cell_type": "markdown",
      "source": [
        "\n",
        "提出量データの形式を整え、CSVファイルに保存します。"
      ],
      "metadata": {
        "id": "juDDBtxyw0XU"
      }
    },
    {
      "cell_type": "code",
      "source": [
        "# 形式を整える\n",
        "survived_test = pd.Series(y_test, name=\"num_sold\")\n",
        "subm_data = pd.concat([test_id, survived_test], axis=1)\n",
        "\n",
        "# 提出用のcsvファイルを保存\n",
        "subm_data.to_csv(\"submission_tps_jan2022.csv\", index=False)\n",
        "\n",
        "subm_data"
      ],
      "metadata": {
        "id": "p0Fd-zfVw62g"
      },
      "execution_count": null,
      "outputs": []
    }
  ]
}