{
  "nbformat": 4,
  "nbformat_minor": 0,
  "metadata": {
    "kernelspec": {
      "display_name": "Python 3",
      "language": "python",
      "name": "python3"
    },
    "language_info": {
      "codemirror_mode": {
        "name": "ipython",
        "version": 3
      },
      "file_extension": ".py",
      "mimetype": "text/x-python",
      "name": "python",
      "nbconvert_exporter": "python",
      "pygments_lexer": "ipython3",
      "version": "3.5.4"
    },
    "colab": {
      "name": "01_pandas_basic.ipynb",
      "provenance": [],
      "collapsed_sections": [],
      "include_colab_link": true
    }
  },
  "cells": [
    {
      "cell_type": "markdown",
      "metadata": {
        "id": "view-in-github",
        "colab_type": "text"
      },
      "source": [
        "<a href=\"https://colab.research.google.com/github/yukinaga/minnano_kaggle/blob/main/section_2/01_pandas_basic.ipynb\" target=\"_parent\"><img src=\"https://colab.research.google.com/assets/colab-badge.svg\" alt=\"Open In Colab\"/></a>"
      ]
    },
    {
      "cell_type": "markdown",
      "metadata": {
        "id": "8PEI59mRTLnr"
      },
      "source": [
        "# Pandasの基礎\n",
        "PandasはPythonでデータ分析を行うためのライブラリで、データの読み込みや編集、統計量の表示などを簡単に行うことができます。  \n",
        "主要なコードはCythonまたはC言語で書かれており、高速に動作します。  "
      ]
    },
    {
      "cell_type": "markdown",
      "metadata": {
        "id": "5e9PIBU6TLnt"
      },
      "source": [
        "## ●Pandasの導入"
      ]
    },
    {
      "cell_type": "markdown",
      "metadata": {
        "id": "eG_cxnskTLnt"
      },
      "source": [
        "Pandasを使うためには、Pandasのモジュールをインポートする必要があります。  \n",
        "NumPyもインポートしておきます。"
      ]
    },
    {
      "cell_type": "code",
      "metadata": {
        "id": "CWUJW65XTLnu"
      },
      "source": [
        "import pandas as pd\n",
        "import numpy as np"
      ],
      "execution_count": null,
      "outputs": []
    },
    {
      "cell_type": "code",
      "metadata": {
        "id": "G2cA1xc4CZ8_"
      },
      "source": [
        "# 練習用\n"
      ],
      "execution_count": null,
      "outputs": []
    },
    {
      "cell_type": "markdown",
      "metadata": {
        "id": "fvXEKAa4Gwgo"
      },
      "source": [
        "Pandasのデータ構造にはSeries（一次元）とDataFrame（二次元）があります。  "
      ]
    },
    {
      "cell_type": "markdown",
      "metadata": {
        "id": "RRtewqUt-T0z"
      },
      "source": [
        "## ●Seriesの作成  \n",
        "Seriesはラベル付きの一次元の配列で、整数や少数、文字列など様々な型のデータを格納することができます。  \n",
        "以下は、リストからSeriesを作る例です。  \n",
        "ラベルは`index`で指定します。"
      ]
    },
    {
      "cell_type": "code",
      "metadata": {
        "id": "HyKwLbexAJsE"
      },
      "source": [
        "a = pd.Series([60, 80, 70, 50, 30], index=[\"Japanese\", \"English\", \"Math\", \"Science\", \"History\"])\n",
        "print(type(a))\n",
        "print(a)"
      ],
      "execution_count": null,
      "outputs": []
    },
    {
      "cell_type": "code",
      "metadata": {
        "id": "XvL3bjtmsFye"
      },
      "source": [
        "# 練習用\n"
      ],
      "execution_count": null,
      "outputs": []
    },
    {
      "cell_type": "markdown",
      "metadata": {
        "id": "mU5FhLgzDuI_"
      },
      "source": [
        "上記ではリストとしてデータとラベルを渡していますが、NumPyの配列を使っても構いません。"
      ]
    },
    {
      "cell_type": "code",
      "metadata": {
        "id": "qWROtvnyCmv9"
      },
      "source": [
        "a = pd.Series(np.array([60, 80, 70, 50, 30]), index=np.array([\"Japanese\", \"English\", \"Math\", \"Science\", \"History\"]))\n",
        "print(type(a))\n",
        "print(a)"
      ],
      "execution_count": null,
      "outputs": []
    },
    {
      "cell_type": "code",
      "metadata": {
        "id": "dHSEvN8_sJkC"
      },
      "source": [
        "# 練習用\n"
      ],
      "execution_count": null,
      "outputs": []
    },
    {
      "cell_type": "markdown",
      "metadata": {
        "id": "Qnk7Ev_AFFf1"
      },
      "source": [
        "Seriesは、辞書から作ることもできます。"
      ]
    },
    {
      "cell_type": "code",
      "metadata": {
        "id": "bcc2Ic8jFpIZ"
      },
      "source": [
        "a = pd.Series({\"Japanese\":60, \"English\":80, \"Math\":70, \"Science\":50, \"History\":30})\n",
        "print(type(a))\n",
        "print(a)"
      ],
      "execution_count": null,
      "outputs": []
    },
    {
      "cell_type": "code",
      "metadata": {
        "id": "UcRYZyllsKDC"
      },
      "source": [
        "# 練習用\n"
      ],
      "execution_count": null,
      "outputs": []
    },
    {
      "cell_type": "markdown",
      "metadata": {
        "id": "GJMOkoiaFmeL"
      },
      "source": [
        "## ●Seriesの操作  \n",
        "インデックスやラベルを使って、Seriesのデータの操作を行うことができます。  \n",
        "以下は、データにアクセスする例です。"
      ]
    },
    {
      "cell_type": "code",
      "metadata": {
        "id": "eVZS5efCLGeA"
      },
      "source": [
        "a = pd.Series([60, 80, 70, 50, 30], index=[\"Japanese\", \"English\", \"Math\", \"Science\", \"History\"])\n",
        "print(a[2])  # インデックスを指定\n",
        "print(a[\"Math\"])  # ラベルを指定"
      ],
      "execution_count": null,
      "outputs": []
    },
    {
      "cell_type": "code",
      "metadata": {
        "id": "tI8AwquXsKhA"
      },
      "source": [
        "# 練習用\n"
      ],
      "execution_count": null,
      "outputs": []
    },
    {
      "cell_type": "markdown",
      "metadata": {
        "id": "pZoME04WLtNR"
      },
      "source": [
        "`append`を使ってデータを追加することができます。"
      ]
    },
    {
      "cell_type": "code",
      "metadata": {
        "id": "rh2ylNnpMlGK"
      },
      "source": [
        "a = pd.Series([60, 80, 70, 50, 30], index=[\"Japanese\", \"English\", \"Math\", \"Science\", \"History\"])\n",
        "b = pd.Series([20], index=[\"Art\"])\n",
        "a = a.append(b)\n",
        "print(a)"
      ],
      "execution_count": null,
      "outputs": []
    },
    {
      "cell_type": "code",
      "metadata": {
        "id": "8nf3U03jsK4d"
      },
      "source": [
        "# 練習用\n"
      ],
      "execution_count": null,
      "outputs": []
    },
    {
      "cell_type": "markdown",
      "metadata": {
        "id": "5WhPDnlwN-0M"
      },
      "source": [
        "その他、データの変更や削除、Series同士の結合なども可能です。  \n",
        "詳細については、公式ドキュメントなどを参考にしましょう。  \n",
        "https://pandas.pydata.org/pandas-docs/stable/getting_started/10min.html"
      ]
    },
    {
      "cell_type": "markdown",
      "metadata": {
        "id": "Lfd5_xOHTLnx"
      },
      "source": [
        "## ●DataFrameの作成\n",
        "DataFrameはラベル付きの二次元の配列で、整数や少数、文字列など様々な型のデータを格納することができます。  \n",
        "以下は、二次元のリストからDataFrameを作る例です。  "
      ]
    },
    {
      "cell_type": "code",
      "metadata": {
        "id": "S4WV4FcFTLny"
      },
      "source": [
        "a = pd.DataFrame([[80, 60, 70, True],\n",
        "                  [90, 80, 70, True],\n",
        "                  [70, 60, 75, True],\n",
        "                  [40, 60, 50, False],\n",
        "                  [20, 30, 40, False],\n",
        "                  [50, 20, 10, False]])\n",
        "a  # ノートブックではprintを使わなくても表示が可能"
      ],
      "execution_count": null,
      "outputs": []
    },
    {
      "cell_type": "code",
      "metadata": {
        "id": "L4JZhtxQsMXG"
      },
      "source": [
        "# 練習用\n"
      ],
      "execution_count": null,
      "outputs": []
    },
    {
      "cell_type": "markdown",
      "metadata": {
        "id": "7EVVx2ydX8FV"
      },
      "source": [
        "DataFrameはSeriesや辞書、NumPyの配列から作ることも可能です。  \n",
        "行と列には、ラベルをつけることができます。\n"
      ]
    },
    {
      "cell_type": "code",
      "metadata": {
        "id": "zF_wUnEWWdeU"
      },
      "source": [
        "a.index = [\"Taro\", \"Hanako\", \"Jiro\", \"Sachiko\", \"Saburo\", \"Yoko\"]\n",
        "a.columns = [\"Japanese\", \"English\", \"Math\", \"Result\"]\n",
        "a"
      ],
      "execution_count": null,
      "outputs": []
    },
    {
      "cell_type": "code",
      "metadata": {
        "id": "coAVCN04sMyZ"
      },
      "source": [
        "# 練習用\n"
      ],
      "execution_count": null,
      "outputs": []
    },
    {
      "cell_type": "markdown",
      "metadata": {
        "id": "Cz3sZz_dDE-l"
      },
      "source": [
        "## ●データの特徴"
      ]
    },
    {
      "cell_type": "markdown",
      "metadata": {
        "id": "7nJL94v7EjQc"
      },
      "source": [
        "`shape`により、データの行数、列数を取得できます。  "
      ]
    },
    {
      "cell_type": "code",
      "metadata": {
        "id": "zZUONW-cEjhM"
      },
      "source": [
        "a.shape  # 行数、列数"
      ],
      "execution_count": null,
      "outputs": []
    },
    {
      "cell_type": "code",
      "metadata": {
        "id": "ysS1Hdu6sNQt"
      },
      "source": [
        "# 練習用\n"
      ],
      "execution_count": null,
      "outputs": []
    },
    {
      "cell_type": "markdown",
      "metadata": {
        "id": "BWCM7AkG_-T9"
      },
      "source": [
        "最初の5行を表示する際は、`head()`を、最後の5行のみを表示する際は`tail()`を使います。  \n",
        "特に行数が多い場合に、データの概要を把握するのに便利です。  "
      ]
    },
    {
      "cell_type": "code",
      "metadata": {
        "id": "6aveUK09_-8x"
      },
      "source": [
        "a.head()  # 最初の5行"
      ],
      "execution_count": null,
      "outputs": []
    },
    {
      "cell_type": "code",
      "metadata": {
        "id": "sxlhBJ8LsNuo"
      },
      "source": [
        "# 練習用\n"
      ],
      "execution_count": null,
      "outputs": []
    },
    {
      "cell_type": "code",
      "metadata": {
        "id": "D4qdYNkaAbD-"
      },
      "source": [
        "a.tail()  # 最後の5行"
      ],
      "execution_count": null,
      "outputs": []
    },
    {
      "cell_type": "code",
      "metadata": {
        "id": "AYQszEq5sOLu"
      },
      "source": [
        "# 練習用\n"
      ],
      "execution_count": null,
      "outputs": []
    },
    {
      "cell_type": "markdown",
      "metadata": {
        "id": "hCOjxyxhBXNR"
      },
      "source": [
        "　基本的な統計量は、`describe()`で一度に表示することができます。"
      ]
    },
    {
      "cell_type": "code",
      "metadata": {
        "id": "gN09h-5A9IFv"
      },
      "source": [
        "a.describe()  # 基本的な統計量"
      ],
      "execution_count": null,
      "outputs": []
    },
    {
      "cell_type": "code",
      "metadata": {
        "id": "tGclyqBosOxM"
      },
      "source": [
        "# 練習用\n"
      ],
      "execution_count": null,
      "outputs": []
    },
    {
      "cell_type": "markdown",
      "metadata": {
        "id": "bTVNyEvsELv-"
      },
      "source": [
        "これらの値は、`mean()`や`max()`などのメソッドで個別に取得することもできます。"
      ]
    },
    {
      "cell_type": "markdown",
      "metadata": {
        "id": "7MSjXvYCH3Hp"
      },
      "source": [
        "## ●DataFrameの操作  \n",
        "インデックスやラベルを使って、DataFrameのデータの操作を行うことができます。  \n",
        "以下のコードでは、`loc()`メソッドを使って範囲を指定し、Seriesデータを取り出しています。"
      ]
    },
    {
      "cell_type": "code",
      "metadata": {
        "id": "mUK-yMCd_8A7"
      },
      "source": [
        "tr = a.loc[\"Taro\", :]  # 一行取り出す\n",
        "print(type(tr))\n",
        "tr"
      ],
      "execution_count": null,
      "outputs": []
    },
    {
      "cell_type": "code",
      "metadata": {
        "id": "Nreuk64nsQBT"
      },
      "source": [
        "# 練習用\n"
      ],
      "execution_count": null,
      "outputs": []
    },
    {
      "cell_type": "markdown",
      "metadata": {
        "id": "7n5YQepkDny2"
      },
      "source": [
        "取り出した行の型がSeriesになっていることが確認できますね。  \n",
        "同様にして、DataFrameから列を取り出すこともできます。"
      ]
    },
    {
      "cell_type": "code",
      "metadata": {
        "id": "U6G4tUSSQPal"
      },
      "source": [
        "ma = a.loc[:, \"English\"]  # 一列取り出す\n",
        "print(type(ma))\n",
        "ma"
      ],
      "execution_count": null,
      "outputs": []
    },
    {
      "cell_type": "code",
      "metadata": {
        "id": "Bv1KZqvYsQhT"
      },
      "source": [
        "# 練習用\n"
      ],
      "execution_count": null,
      "outputs": []
    },
    {
      "cell_type": "markdown",
      "metadata": {
        "id": "-5CAPT2OEd8J"
      },
      "source": [
        "こちらもSeries型ですね。  \n",
        "`iloc`を使えばインデックスにより範囲を指定することも可能です。"
      ]
    },
    {
      "cell_type": "code",
      "metadata": {
        "id": "nW8SR2UZEbg_"
      },
      "source": [
        "r = a.iloc[1:4, :2]  # 行:1-3、列:0-1\n",
        "print(type(r))\n",
        "r"
      ],
      "execution_count": null,
      "outputs": []
    },
    {
      "cell_type": "code",
      "metadata": {
        "id": "NGx-IvfusQ4T"
      },
      "source": [
        "# 練習用\n"
      ],
      "execution_count": null,
      "outputs": []
    },
    {
      "cell_type": "markdown",
      "metadata": {
        "id": "kit0y2IIIc7f"
      },
      "source": [
        "`loc()`メソッドにより、行を追加することができます。"
      ]
    },
    {
      "cell_type": "code",
      "metadata": {
        "id": "d2u1ZIIgFYWe"
      },
      "source": [
        "a.loc[\"Shiro\"] = pd.Series([70, 80, 70, True], index=[\"Japanese\", \"English\", \"Math\", \"Result\"], name=\"Shiro\")  # Seriesを行として追加\n",
        "a"
      ],
      "execution_count": null,
      "outputs": []
    },
    {
      "cell_type": "code",
      "metadata": {
        "id": "69PCGR4DsRaF"
      },
      "source": [
        "# 練習用\n"
      ],
      "execution_count": null,
      "outputs": []
    },
    {
      "cell_type": "markdown",
      "metadata": {
        "id": "rGYduDSUPI7L"
      },
      "source": [
        "列のラベルを指定し、列を追加することができます。"
      ]
    },
    {
      "cell_type": "code",
      "metadata": {
        "id": "jHAuYpSKIbsF"
      },
      "source": [
        "a[\"Science\"] = [80, 70, 60, 50, 60, 40, 80]  # 列をリストとして追加\n",
        "a"
      ],
      "execution_count": null,
      "outputs": []
    },
    {
      "cell_type": "code",
      "metadata": {
        "id": "Q_6BZC9GsRyd"
      },
      "source": [
        "# 練習用\n"
      ],
      "execution_count": null,
      "outputs": []
    },
    {
      "cell_type": "markdown",
      "metadata": {
        "id": "zdiKjWtbWD3l"
      },
      "source": [
        "`sort_values`メソッドにより、DataFrameをソートすることができます。"
      ]
    },
    {
      "cell_type": "code",
      "metadata": {
        "id": "5G-S_aYqPHZX"
      },
      "source": [
        "a.sort_values(by=\"Math\",ascending=False)"
      ],
      "execution_count": null,
      "outputs": []
    },
    {
      "cell_type": "code",
      "metadata": {
        "id": "agVvvWMysSYs"
      },
      "source": [
        "# 練習用\n"
      ],
      "execution_count": null,
      "outputs": []
    },
    {
      "cell_type": "markdown",
      "metadata": {
        "id": "pCKi7UNEXofI"
      },
      "source": [
        "他にも、DataFrameにはデータの削除や変更、DataFrame同士の結合など様々な機能があります。  \n",
        "もちろん、条件を詳しく絞ってデータを抽出することも可能です。  \n",
        "さらに詳しく知りたい方は、公式ドキュメントなどを参考にしましょう。  \n",
        "https://pandas.pydata.org/pandas-docs/stable/index.html"
      ]
    }
  ]
}