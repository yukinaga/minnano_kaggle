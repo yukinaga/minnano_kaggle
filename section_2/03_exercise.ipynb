{
  "nbformat": 4,
  "nbformat_minor": 0,
  "metadata": {
    "kernelspec": {
      "language": "python",
      "display_name": "Python 3",
      "name": "python3"
    },
    "language_info": {
      "name": "python",
      "version": "3.7.10",
      "mimetype": "text/x-python",
      "codemirror_mode": {
        "name": "ipython",
        "version": 3
      },
      "pygments_lexer": "ipython3",
      "nbconvert_exporter": "python",
      "file_extension": ".py"
    },
    "colab": {
      "name": "03_exercise.ipynb",
      "provenance": [],
      "collapsed_sections": [],
      "include_colab_link": true
    }
  },
  "cells": [
    {
      "cell_type": "markdown",
      "metadata": {
        "id": "view-in-github",
        "colab_type": "text"
      },
      "source": [
        "<a href=\"https://colab.research.google.com/github/yukinaga/minnano_kaggle/blob/main/section_2/03_exercise.ipynb\" target=\"_parent\"><img src=\"https://colab.research.google.com/assets/colab-badge.svg\" alt=\"Open In Colab\"/></a>"
      ]
    },
    {
      "cell_type": "markdown",
      "metadata": {
        "id": "dPkdg9jTjkTd"
      },
      "source": [
        "# 演習\n",
        "機械学習のアルゴリズム「サポートベクターマシン」 を使い、タイタニック号の生存者を予測しましょう。  \n",
        "サポートベクターマシンのモデルを作成し、訓練するコードを記述してください。"
      ]
    },
    {
      "cell_type": "markdown",
      "metadata": {
        "id": "vrrLkhAYOm0h"
      },
      "source": [
        "## データの読み込み\n"
      ]
    },
    {
      "cell_type": "code",
      "metadata": {
        "execution": {
          "iopub.status.busy": "2021-06-07T06:24:30.673433Z",
          "iopub.execute_input": "2021-06-07T06:24:30.674071Z",
          "iopub.status.idle": "2021-06-07T06:24:30.743367Z",
          "shell.execute_reply.started": "2021-06-07T06:24:30.674016Z",
          "shell.execute_reply": "2021-06-07T06:24:30.741854Z"
        },
        "trusted": true,
        "id": "HhBVtZ25Om0i"
      },
      "source": [
        "import numpy as np\n",
        "import pandas as pd\n",
        "\n",
        "train_data = pd.read_csv(\"train.csv\")  # 訓練データ\n",
        "test_data = pd.read_csv(\"test.csv\") # テストデータ\n",
        "\n",
        "train_data.head()"
      ],
      "execution_count": null,
      "outputs": []
    },
    {
      "cell_type": "markdown",
      "metadata": {
        "id": "AmKUQ9JEOm0i"
      },
      "source": [
        "## データの前処理"
      ]
    },
    {
      "cell_type": "code",
      "metadata": {
        "execution": {
          "iopub.status.busy": "2021-06-07T06:24:30.745684Z",
          "iopub.execute_input": "2021-06-07T06:24:30.746008Z",
          "iopub.status.idle": "2021-06-07T06:24:30.768446Z",
          "shell.execute_reply.started": "2021-06-07T06:24:30.745977Z",
          "shell.execute_reply": "2021-06-07T06:24:30.767187Z"
        },
        "trusted": true,
        "id": "zUwQ0jPXOm0i"
      },
      "source": [
        "test_id = test_data[\"PassengerId\"]  # 結果の提出時に使用\n",
        "\n",
        "labels = [\"Pclass\",\"Sex\",\"Age\",\"SibSp\",\"Parch\",\"Fare\",\"Embarked\"]\n",
        "train_data = train_data[labels + [\"Survived\"]]\n",
        "test_data = test_data[labels]\n",
        "\n",
        "train_data.head()"
      ],
      "execution_count": null,
      "outputs": []
    },
    {
      "cell_type": "code",
      "metadata": {
        "execution": {
          "iopub.status.busy": "2021-06-07T06:24:30.770134Z",
          "iopub.execute_input": "2021-06-07T06:24:30.770445Z",
          "iopub.status.idle": "2021-06-07T06:24:30.811361Z",
          "shell.execute_reply.started": "2021-06-07T06:24:30.770415Z",
          "shell.execute_reply": "2021-06-07T06:24:30.810241Z"
        },
        "trusted": true,
        "id": "ifZJ1_1rOm0j"
      },
      "source": [
        "train_data.info()\n",
        "test_data.info()"
      ],
      "execution_count": null,
      "outputs": []
    },
    {
      "cell_type": "code",
      "metadata": {
        "execution": {
          "iopub.status.busy": "2021-06-07T06:24:30.813015Z",
          "iopub.execute_input": "2021-06-07T06:24:30.813644Z",
          "iopub.status.idle": "2021-06-07T06:24:30.829531Z",
          "shell.execute_reply.started": "2021-06-07T06:24:30.813592Z",
          "shell.execute_reply": "2021-06-07T06:24:30.827901Z"
        },
        "trusted": true,
        "id": "bCLtOaQ7Om0k"
      },
      "source": [
        "# Age\n",
        "age_mean = train_data[\"Age\"].mean()  # 平均値\n",
        "train_data[\"Age\"] = train_data[\"Age\"].fillna(age_mean)\n",
        "test_data[\"Age\"] = test_data[\"Age\"].fillna(age_mean)\n",
        "\n",
        "# Fare\n",
        "fare_mean = train_data[\"Fare\"].mean()  # 平均値\n",
        "train_data[\"Fare\"] = train_data[\"Fare\"].fillna(fare_mean)\n",
        "test_data[\"Fare\"] = test_data[\"Fare\"].fillna(fare_mean)\n",
        "\n",
        "# Embarked\n",
        "embarked_mode = train_data[\"Embarked\"].mode()  # 最頻値\n",
        "train_data[\"Embarked\"] = train_data[\"Embarked\"].fillna(embarked_mode)\n",
        "test_data[\"Embarked\"] = test_data[\"Embarked\"].fillna(embarked_mode)"
      ],
      "execution_count": null,
      "outputs": []
    },
    {
      "cell_type": "code",
      "metadata": {
        "execution": {
          "iopub.status.busy": "2021-06-07T06:24:30.831193Z",
          "iopub.execute_input": "2021-06-07T06:24:30.831537Z",
          "iopub.status.idle": "2021-06-07T06:24:30.876015Z",
          "shell.execute_reply.started": "2021-06-07T06:24:30.831504Z",
          "shell.execute_reply": "2021-06-07T06:24:30.875266Z"
        },
        "trusted": true,
        "id": "Z7T6myyyOm0k"
      },
      "source": [
        "cat_labels = [\"Sex\", \"Pclass\", \"Embarked\"]  # カテゴリ変数のラベル\n",
        "train_data = pd.get_dummies(train_data, columns=cat_labels)\n",
        "test_data = pd.get_dummies(test_data, columns=cat_labels)\n",
        "\n",
        "train_data.head()"
      ],
      "execution_count": null,
      "outputs": []
    },
    {
      "cell_type": "markdown",
      "metadata": {
        "id": "5D02Yg1iOm0l"
      },
      "source": [
        "## モデルの訓練"
      ]
    },
    {
      "cell_type": "code",
      "metadata": {
        "execution": {
          "iopub.status.busy": "2021-06-07T06:24:30.877125Z",
          "iopub.execute_input": "2021-06-07T06:24:30.877540Z",
          "iopub.status.idle": "2021-06-07T06:24:30.885242Z",
          "shell.execute_reply.started": "2021-06-07T06:24:30.877509Z",
          "shell.execute_reply": "2021-06-07T06:24:30.884057Z"
        },
        "trusted": true,
        "id": "eDPMSI-nOm0l"
      },
      "source": [
        "t_train = train_data[\"Survived\"]  # 正解\n",
        "x_train = train_data.drop(labels=[\"Survived\"], axis=1)  # \"Survived\"の列を削除して入力に\n",
        "x_test = test_data"
      ],
      "execution_count": null,
      "outputs": []
    },
    {
      "cell_type": "markdown",
      "metadata": {
        "id": "RtexTKVBOm0l"
      },
      "source": [
        "サポートベクターマシン（Support Vector Machine、SVM）とは、パターン識別のための教師あり機械学習のアルゴリズムです。  \n",
        "「マージン最大化」というアイディアに基づいているのですが、しばしば優れたパターン識別能力を発揮します。\n",
        "\n",
        "以下のセルに、サポートベクターマシンのモデルを作成し、訓練するコードを記述してください。  \n",
        "以下の、scikit-learnの公式ドキュメントなどが参考になります。  \n",
        "https://scikit-learn.org/stable/modules/generated/sklearn.svm.SVC.html "
      ]
    },
    {
      "cell_type": "code",
      "metadata": {
        "execution": {
          "iopub.status.busy": "2021-06-07T06:24:30.887634Z",
          "iopub.execute_input": "2021-06-07T06:24:30.888188Z",
          "iopub.status.idle": "2021-06-07T06:24:32.389456Z",
          "shell.execute_reply.started": "2021-06-07T06:24:30.888117Z",
          "shell.execute_reply": "2021-06-07T06:24:32.388576Z"
        },
        "trusted": true,
        "id": "Dnj8RuhTOm0l"
      },
      "source": [
        "from sklearn.svm import SVC  # SVC: Support Vector Classification\n",
        "\n",
        "model =  # ←ここにモデルを作成するコードを記述する\n",
        "  # ←ここにモデルを訓練するコードを記述する"
      ],
      "execution_count": null,
      "outputs": []
    },
    {
      "cell_type": "markdown",
      "metadata": {
        "id": "3TvYry8HOm0m"
      },
      "source": [
        "## 結果の提出"
      ]
    },
    {
      "cell_type": "markdown",
      "metadata": {
        "id": "K0PWUblbOm0m"
      },
      "source": [
        "テストデータを使って予測を行います。  \n",
        "予測結果は、形式を整えた上で提出用のcsvファイルとして保存します。"
      ]
    },
    {
      "cell_type": "code",
      "metadata": {
        "execution": {
          "iopub.status.busy": "2021-06-07T06:24:32.632682Z",
          "iopub.execute_input": "2021-06-07T06:24:32.633315Z",
          "iopub.status.idle": "2021-06-07T06:24:32.667287Z",
          "shell.execute_reply.started": "2021-06-07T06:24:32.633264Z",
          "shell.execute_reply": "2021-06-07T06:24:32.666436Z"
        },
        "trusted": true,
        "id": "Cf3ufj9MOm0m"
      },
      "source": [
        "# 判定\n",
        "y_test = model.predict(x_test)\n",
        "\n",
        "# 形式を整える\n",
        "survived_test = pd.Series(y_test, name=\"Survived\")\n",
        "subm_data = pd.concat([test_id, survived_test], axis=1)\n",
        "\n",
        "# 提出用のcsvファイルを保存\n",
        "subm_data.to_csv(\"submission_titanic.csv\", index=False)\n",
        "\n",
        "subm_data"
      ],
      "execution_count": null,
      "outputs": []
    },
    {
      "cell_type": "markdown",
      "metadata": {
        "id": "o3vxFS_TTNg2"
      },
      "source": [
        "## 解答例\n",
        "以下は解答例です。"
      ]
    },
    {
      "cell_type": "code",
      "source": [
        "from sklearn.svm import SVC  # SVC: Support Vector Classification\n",
        "\n",
        "model = SVC()  # ←ここにコードを記述する\n",
        "model.fit(x_train, t_train)  # ←ここにコードを記述する"
      ],
      "metadata": {
        "id": "QQirr6m_IM5p"
      },
      "execution_count": null,
      "outputs": []
    }
  ]
}