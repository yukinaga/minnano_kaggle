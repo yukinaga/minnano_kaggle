{
  "nbformat": 4,
  "nbformat_minor": 0,
  "metadata": {
    "kernelspec": {
      "language": "python",
      "display_name": "Python 3",
      "name": "python3"
    },
    "language_info": {
      "name": "python",
      "version": "3.7.10",
      "mimetype": "text/x-python",
      "codemirror_mode": {
        "name": "ipython",
        "version": 3
      },
      "pygments_lexer": "ipython3",
      "nbconvert_exporter": "python",
      "file_extension": ".py"
    },
    "colab": {
      "name": "01_feature_engineering.ipynb",
      "provenance": [],
      "collapsed_sections": [],
      "include_colab_link": true
    }
  },
  "cells": [
    {
      "cell_type": "markdown",
      "metadata": {
        "id": "view-in-github",
        "colab_type": "text"
      },
      "source": [
        "<a href=\"https://colab.research.google.com/github/yukinaga/minnano_kaggle/blob/main/section_3/01_feature_engineering.ipynb\" target=\"_parent\"><img src=\"https://colab.research.google.com/assets/colab-badge.svg\" alt=\"Open In Colab\"/></a>"
      ]
    },
    {
      "cell_type": "markdown",
      "metadata": {
        "id": "_SKBArDhOm0h"
      },
      "source": [
        "# 特徴量エンジニアリング\n",
        "データの特徴を捉え、使いやすいように加工します。  "
      ]
    },
    {
      "cell_type": "markdown",
      "metadata": {
        "id": "vrrLkhAYOm0h"
      },
      "source": [
        "## データの読み込み\n",
        "タイタニック号の乗客データを読み込みます。  \n",
        "以下のページからタイタニック号の乗客データをダウロードして、「train.csv」「test.csv」をノートブック環境にアップします。  \n",
        "https://www.kaggle.com/c/titanic/data\n",
        "\n",
        "訓練データには乗客が生き残ったどうかを表す\"Survived\"の列がありますが、テストデータにはありません。   \n"
      ]
    },
    {
      "cell_type": "code",
      "metadata": {
        "execution": {
          "iopub.status.busy": "2021-06-07T06:24:30.673433Z",
          "iopub.execute_input": "2021-06-07T06:24:30.674071Z",
          "iopub.status.idle": "2021-06-07T06:24:30.743367Z",
          "shell.execute_reply.started": "2021-06-07T06:24:30.674016Z",
          "shell.execute_reply": "2021-06-07T06:24:30.741854Z"
        },
        "trusted": true,
        "id": "HhBVtZ25Om0i"
      },
      "source": [
        "import numpy as np\n",
        "import pandas as pd\n",
        "import matplotlib.pyplot as plt\n",
        "import seaborn as sns\n",
        "\n",
        "train_data = pd.read_csv(\"train.csv\")  # 訓練データ\n",
        "test_data = pd.read_csv(\"test.csv\") # テストデータ\n",
        "\n",
        "train_data.info()\n",
        "test_data.info()"
      ],
      "execution_count": null,
      "outputs": []
    },
    {
      "cell_type": "markdown",
      "source": [
        "## 兄弟、配偶者の数\n",
        "SibSp（兄弟/配偶者の数）の分布をグラフで確認します。"
      ],
      "metadata": {
        "id": "7EmNkXhrMXWd"
      }
    },
    {
      "cell_type": "code",
      "source": [
        "sns.countplot(x=\"SibSp\", hue=\"Survived\", data=train_data)\n",
        "plt.legend()\n",
        "plt.show()"
      ],
      "metadata": {
        "id": "95KfUeFSZVJ8"
      },
      "execution_count": null,
      "outputs": []
    },
    {
      "cell_type": "markdown",
      "source": [
        "## 両親、子供の数\n",
        "Parch（親/子供の数）の分布をグラフで確認します。"
      ],
      "metadata": {
        "id": "FCom3TUwM_6b"
      }
    },
    {
      "cell_type": "code",
      "source": [
        "sns.countplot(x=\"Parch\", hue=\"Survived\", data=train_data)\n",
        "plt.legend()\n",
        "plt.show()"
      ],
      "metadata": {
        "id": "-2V9oR6HZZvp"
      },
      "execution_count": null,
      "outputs": []
    },
    {
      "cell_type": "markdown",
      "source": [
        "## チケットのクラス\n",
        "Pclass（チケットのクラス）の分布をグラフで確認します。"
      ],
      "metadata": {
        "id": "ZL_Whw6lQbgX"
      }
    },
    {
      "cell_type": "code",
      "source": [
        "sns.countplot(x=\"Pclass\", hue=\"Survived\", data=train_data)\n",
        "plt.show()"
      ],
      "metadata": {
        "id": "gC0rj0U2ZqZB"
      },
      "execution_count": null,
      "outputs": []
    },
    {
      "cell_type": "markdown",
      "source": [
        "## 性別\n",
        "Sex（性別）の分布をグラフで確認します。"
      ],
      "metadata": {
        "id": "UwTchP7nQvpL"
      }
    },
    {
      "cell_type": "code",
      "source": [
        "sns.countplot(x=\"Sex\", hue=\"Survived\", data=train_data)\n",
        "plt.show()"
      ],
      "metadata": {
        "id": "kHUVPRFSZuz1"
      },
      "execution_count": null,
      "outputs": []
    },
    {
      "cell_type": "markdown",
      "source": [
        "## 出港地\n",
        "Embarked（出港地）の分布をグラフで確認します。"
      ],
      "metadata": {
        "id": "ewQnZvY8RYcb"
      }
    },
    {
      "cell_type": "code",
      "source": [
        "sns.countplot(x=\"Embarked\", hue=\"Survived\", data=train_data)\n",
        "plt.show()"
      ],
      "metadata": {
        "id": "Wx4jZBmVZ1OW"
      },
      "execution_count": null,
      "outputs": []
    },
    {
      "cell_type": "markdown",
      "source": [
        "## 年齢の分布\n",
        "Age（年齢）の分布をグラフで確認します。  "
      ],
      "metadata": {
        "id": "OsXQLVfG8cwd"
      }
    },
    {
      "cell_type": "code",
      "source": [
        "bins = 25  # 棒の数\n",
        "alpha = 0.6  # 棒の透明度\n",
        "\n",
        "# 棒グラフの描画\n",
        "plt.hist(train_data.loc[train_data[\"Survived\"]==0, \"Age\"].dropna(), bins=bins, alpha=alpha, label=\"0\")  # 死亡\n",
        "plt.hist(train_data.loc[train_data[\"Survived\"]==1, \"Age\"].dropna(), bins=bins, alpha=alpha, label=\"1\")  # 生存\n",
        "\n",
        "# 軸ラベル\n",
        "plt.xlabel(\"Age\")\n",
        "plt.ylabel(\"Count\")\n",
        "\n",
        "plt.legend()\n",
        "plt.show()"
      ],
      "metadata": {
        "id": "Kz0BzEt4PFx2"
      },
      "execution_count": null,
      "outputs": []
    },
    {
      "cell_type": "markdown",
      "source": [
        "## 料金の分布\n",
        "Fare（料金）の分布をグラフで確認します。  "
      ],
      "metadata": {
        "id": "_kviU35xOenG"
      }
    },
    {
      "cell_type": "code",
      "source": [
        "bins = 25  # 棒の数\n",
        "alpha = 0.6  # 棒の透明度\n",
        "\n",
        "plt.hist(train_data.loc[train_data[\"Survived\"] == 0, \"Fare\"].dropna(), bins=bins, alpha=alpha, label=\"0\")  # 死亡\n",
        "plt.hist(train_data.loc[train_data[\"Survived\"] == 1, \"Fare\"].dropna(), bins=bins, alpha=alpha, label=\"1\")  # 生存\n",
        "\n",
        "# 軸ラベル\n",
        "plt.xlabel(\"Fare\")\n",
        "plt.ylabel(\"Count\")\n",
        "\n",
        "plt.legend()\n",
        "plt.show()"
      ],
      "metadata": {
        "id": "cN7a6k4LZjDf"
      },
      "execution_count": null,
      "outputs": []
    },
    {
      "cell_type": "markdown",
      "source": [
        "## 特徴量エンジニアリング\n",
        "データを機械学習に使える形に変換し、新しい特徴量を作成します。  \n",
        "まずはデータを機械学習に適した形に変換しますが、`inplace`を`True`にすることで、元のデータが変更されるようになります。"
      ],
      "metadata": {
        "id": "au1RU4aLS6UC"
      }
    },
    {
      "cell_type": "code",
      "source": [
        "data = pd.concat([train_data, test_data], sort=False)  # テストデータ、訓練データを結合\n",
        "\n",
        "# 性別を0か1の値に変換\n",
        "data[\"Sex\"].replace([\"male\", \"female\"], [0, 1], inplace=True)\n",
        "\n",
        "# 出港地の欠損値を埋め、0、1、2の値に変換\n",
        "data[\"Embarked\"].fillna((\"S\"), inplace=True)\n",
        "data[\"Embarked\"] = data[\"Embarked\"].map({\"S\": 0, \"C\": 1, \"Q\": 2})\n",
        "\n",
        "# 欠損値を埋める\n",
        "data[\"Fare\"].fillna(data[\"Fare\"].mean(), inplace=True)\n",
        "data[\"Age\"].fillna(data[\"Age\"].mean(), inplace=True)"
      ],
      "metadata": {
        "id": "K2rSCUkBfZlv"
      },
      "execution_count": null,
      "outputs": []
    },
    {
      "cell_type": "markdown",
      "source": [
        "SibSpとParchを合わせて、新しい特徴量「Family」を作ります。"
      ],
      "metadata": {
        "id": "6CljIXHDXtW6"
      }
    },
    {
      "cell_type": "code",
      "source": [
        "data[\"Family\"] = data[\"Parch\"] + data[\"SibSp\"]\n",
        "\n",
        "train_data[\"Family\"] = data[\"Family\"][:len(train_data)]\n",
        "test_data[\"Family\"] = data[\"Family\"][len(train_data):]\n",
        "\n",
        "sns.countplot(x=\"Family\", data=train_data, hue=\"Survived\")\n",
        "plt.legend()\n",
        "plt.show()"
      ],
      "metadata": {
        "id": "5dtx-yCgfu1-"
      },
      "execution_count": null,
      "outputs": []
    },
    {
      "cell_type": "markdown",
      "source": [
        "不要な特徴量を削除し、機械学習モデルへの入力を作成します。"
      ],
      "metadata": {
        "id": "ErOUpJoXc805"
      }
    },
    {
      "cell_type": "code",
      "source": [
        "# 不要な特徴量の削除\n",
        "data.drop([\"Name\", \"PassengerId\", \"SibSp\", \"Parch\", \"Ticket\", \"Cabin\"],\n",
        "          axis=1, inplace=True)\n",
        "\n",
        "train_data = data[:len(train_data)]\n",
        "test_data = data[len(train_data):]\n",
        "\n",
        "t = train_data[\"Survived\"]  # 正解\n",
        "x_train = train_data.drop(\"Survived\", axis=1)  # 訓練時の入力\n",
        "x_test = test_data.drop(\"Survived\", axis=1)  # テスト時の入力\n",
        "\n",
        "x_train.head()"
      ],
      "metadata": {
        "id": "WLUtcKkPf4cm"
      },
      "execution_count": null,
      "outputs": []
    }
  ]
}