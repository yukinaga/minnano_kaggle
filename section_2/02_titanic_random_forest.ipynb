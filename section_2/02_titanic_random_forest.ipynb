{
  "nbformat": 4,
  "nbformat_minor": 0,
  "metadata": {
    "kernelspec": {
      "language": "python",
      "display_name": "Python 3",
      "name": "python3"
    },
    "language_info": {
      "name": "python",
      "version": "3.7.10",
      "mimetype": "text/x-python",
      "codemirror_mode": {
        "name": "ipython",
        "version": 3
      },
      "pygments_lexer": "ipython3",
      "nbconvert_exporter": "python",
      "file_extension": ".py"
    },
    "colab": {
      "name": "02_titanic_random_forest.ipynb",
      "provenance": [],
      "collapsed_sections": [],
      "include_colab_link": true
    }
  },
  "cells": [
    {
      "cell_type": "markdown",
      "metadata": {
        "id": "view-in-github",
        "colab_type": "text"
      },
      "source": [
        "<a href=\"https://colab.research.google.com/github/yukinaga/minnano_kaggle/blob/main/section_2/02_titanic_random_forest.ipynb\" target=\"_parent\"><img src=\"https://colab.research.google.com/assets/colab-badge.svg\" alt=\"Open In Colab\"/></a>"
      ]
    },
    {
      "cell_type": "markdown",
      "metadata": {
        "id": "_SKBArDhOm0h"
      },
      "source": [
        "# タイタニック号生存者の予測\n",
        "「ランダムフォレスト」という機械学習のアルゴリズムにより、タイタニック号の生存者を予測します。  \n",
        "訓練済みのモデルによる予測結果は、csvファイルに保存して提出します。  "
      ]
    },
    {
      "cell_type": "markdown",
      "metadata": {
        "id": "vrrLkhAYOm0h"
      },
      "source": [
        "## データの読み込み\n",
        "タイタニック号の乗客データを読み込みます。  \n",
        "以下のページからタイタニック号の乗客データをダウロードして、「train.csv」「test.csv」をノートブック環境にアップします。\n",
        "https://www.kaggle.com/c/titanic/data\n",
        "\n",
        "訓練データには乗客が生き残ったどうかを表す\"Survived\"の列がありますが、テストデータにはありません。  \n",
        "訓練済みのモデルに、テストデータを入力して判定した結果を提出することになります。  \n"
      ]
    },
    {
      "cell_type": "code",
      "metadata": {
        "execution": {
          "iopub.status.busy": "2021-06-07T06:24:30.673433Z",
          "iopub.execute_input": "2021-06-07T06:24:30.674071Z",
          "iopub.status.idle": "2021-06-07T06:24:30.743367Z",
          "shell.execute_reply.started": "2021-06-07T06:24:30.674016Z",
          "shell.execute_reply": "2021-06-07T06:24:30.741854Z"
        },
        "trusted": true,
        "id": "HhBVtZ25Om0i"
      },
      "source": [
        "import numpy as np\n",
        "import pandas as pd\n",
        "\n",
        "train_data = pd.read_csv(\"train.csv\")  # 訓練データ\n",
        "test_data = pd.read_csv(\"test.csv\") # テストデータ\n",
        "\n",
        "train_data.head()"
      ],
      "execution_count": null,
      "outputs": []
    },
    {
      "cell_type": "markdown",
      "metadata": {
        "id": "AmKUQ9JEOm0i"
      },
      "source": [
        "## データの前処理\n",
        "判定に使用可能なデータのみを取り出し、データの欠損に対して適切な処理を行います。  \n",
        "また、文字列などのカテゴリ変数に対しては、数値に変換する処理を行います。  \n",
        "\n",
        "以下のコードでは、訓練データ及びテストデータから判定に使える列のみを取り出しています。"
      ]
    },
    {
      "cell_type": "code",
      "metadata": {
        "execution": {
          "iopub.status.busy": "2021-06-07T06:24:30.745684Z",
          "iopub.execute_input": "2021-06-07T06:24:30.746008Z",
          "iopub.status.idle": "2021-06-07T06:24:30.768446Z",
          "shell.execute_reply.started": "2021-06-07T06:24:30.745977Z",
          "shell.execute_reply": "2021-06-07T06:24:30.767187Z"
        },
        "trusted": true,
        "id": "zUwQ0jPXOm0i"
      },
      "source": [
        "test_id = test_data[\"PassengerId\"]  # 結果の提出時に使用\n",
        "\n",
        "labels = [\"Pclass\",\"Sex\",\"Age\",\"SibSp\",\"Parch\",\"Fare\",\"Embarked\"]\n",
        "train_data = train_data[labels + [\"Survived\"]]\n",
        "test_data = test_data[labels]\n",
        "\n",
        "train_data.head()"
      ],
      "execution_count": null,
      "outputs": []
    },
    {
      "cell_type": "markdown",
      "metadata": {
        "id": "4vBqoanyOm0j"
      },
      "source": [
        "`info()`によりデータの全体像を確認することができます。  \n",
        "Non-Null Countにより欠損していないデータの数が確認できるので、データの欠損が存在する列を確認しておきます。  "
      ]
    },
    {
      "cell_type": "code",
      "metadata": {
        "execution": {
          "iopub.status.busy": "2021-06-07T06:24:30.770134Z",
          "iopub.execute_input": "2021-06-07T06:24:30.770445Z",
          "iopub.status.idle": "2021-06-07T06:24:30.811361Z",
          "shell.execute_reply.started": "2021-06-07T06:24:30.770415Z",
          "shell.execute_reply": "2021-06-07T06:24:30.810241Z"
        },
        "trusted": true,
        "id": "ifZJ1_1rOm0j"
      },
      "source": [
        "train_data.info()\n",
        "test_data.info()"
      ],
      "execution_count": null,
      "outputs": []
    },
    {
      "cell_type": "markdown",
      "metadata": {
        "id": "lCs7hsacOm0k"
      },
      "source": [
        "AgeとFare、Embarkedに欠損が存在します。  \n",
        "AgeとFareの欠損値には平均値を、Embarkedの欠損値には最頻値をあてがって対処します。  "
      ]
    },
    {
      "cell_type": "code",
      "metadata": {
        "execution": {
          "iopub.status.busy": "2021-06-07T06:24:30.813015Z",
          "iopub.execute_input": "2021-06-07T06:24:30.813644Z",
          "iopub.status.idle": "2021-06-07T06:24:30.829531Z",
          "shell.execute_reply.started": "2021-06-07T06:24:30.813592Z",
          "shell.execute_reply": "2021-06-07T06:24:30.827901Z"
        },
        "trusted": true,
        "id": "bCLtOaQ7Om0k"
      },
      "source": [
        "# Age\n",
        "age_mean = train_data[\"Age\"].mean()  # 平均値\n",
        "train_data[\"Age\"] = train_data[\"Age\"].fillna(age_mean)\n",
        "test_data[\"Age\"] = test_data[\"Age\"].fillna(age_mean)\n",
        "\n",
        "# Fare\n",
        "fare_mean = train_data[\"Fare\"].mean()  # 平均値\n",
        "train_data[\"Fare\"] = train_data[\"Fare\"].fillna(fare_mean)\n",
        "test_data[\"Fare\"] = test_data[\"Fare\"].fillna(fare_mean)\n",
        "\n",
        "# Embarked\n",
        "embarked_mode = train_data[\"Embarked\"].mode()  # 最頻値\n",
        "train_data[\"Embarked\"] = train_data[\"Embarked\"].fillna(embarked_mode)\n",
        "test_data[\"Embarked\"] = test_data[\"Embarked\"].fillna(embarked_mode)"
      ],
      "execution_count": null,
      "outputs": []
    },
    {
      "cell_type": "markdown",
      "metadata": {
        "id": "tpSvR5lAOm0k"
      },
      "source": [
        "`get_dummies()`により、カテゴリ変数の列を0か1の値を持つ複数の列に変換します。  "
      ]
    },
    {
      "cell_type": "code",
      "metadata": {
        "execution": {
          "iopub.status.busy": "2021-06-07T06:24:30.831193Z",
          "iopub.execute_input": "2021-06-07T06:24:30.831537Z",
          "iopub.status.idle": "2021-06-07T06:24:30.876015Z",
          "shell.execute_reply.started": "2021-06-07T06:24:30.831504Z",
          "shell.execute_reply": "2021-06-07T06:24:30.875266Z"
        },
        "trusted": true,
        "id": "Z7T6myyyOm0k"
      },
      "source": [
        "cat_labels = [\"Sex\", \"Pclass\", \"Embarked\"]  # カテゴリ変数のラベル\n",
        "train_data = pd.get_dummies(train_data, columns=cat_labels)\n",
        "test_data = pd.get_dummies(test_data, columns=cat_labels)\n",
        "\n",
        "train_data.head()"
      ],
      "execution_count": null,
      "outputs": []
    },
    {
      "cell_type": "markdown",
      "metadata": {
        "id": "5D02Yg1iOm0l"
      },
      "source": [
        "## モデルの訓練\n",
        "入力と正解を用意します。  \n",
        "\"Survived\"の列が正解となります。"
      ]
    },
    {
      "cell_type": "code",
      "metadata": {
        "execution": {
          "iopub.status.busy": "2021-06-07T06:24:30.877125Z",
          "iopub.execute_input": "2021-06-07T06:24:30.877540Z",
          "iopub.status.idle": "2021-06-07T06:24:30.885242Z",
          "shell.execute_reply.started": "2021-06-07T06:24:30.877509Z",
          "shell.execute_reply": "2021-06-07T06:24:30.884057Z"
        },
        "trusted": true,
        "id": "eDPMSI-nOm0l"
      },
      "source": [
        "t_train = train_data[\"Survived\"]  # 正解\n",
        "x_train = train_data.drop(labels=[\"Survived\"], axis=1)  # \"Survived\"の列を削除して入力に\n",
        "x_test = test_data"
      ],
      "execution_count": null,
      "outputs": []
    },
    {
      "cell_type": "markdown",
      "metadata": {
        "id": "RtexTKVBOm0l"
      },
      "source": [
        "ランダムフォレストは、複数の決定木を組み合わせた「アンサンブル学習」の一種です。  \n",
        "アンサンブル学習は複数の機械学習を組み合わせる手法で、しばしば高い性能を発揮します。  \n",
        "\n",
        "以下のコードでは、`RandomForestClassifier()`を使い、ランダムフォレストのモデルを作成して訓練します。  \n",
        "多数の決定木の多数決により、分類が行われることになります。 "
      ]
    },
    {
      "cell_type": "code",
      "metadata": {
        "execution": {
          "iopub.status.busy": "2021-06-07T06:24:30.887634Z",
          "iopub.execute_input": "2021-06-07T06:24:30.888188Z",
          "iopub.status.idle": "2021-06-07T06:24:32.389456Z",
          "shell.execute_reply.started": "2021-06-07T06:24:30.888117Z",
          "shell.execute_reply": "2021-06-07T06:24:32.388576Z"
        },
        "trusted": true,
        "id": "Dnj8RuhTOm0l"
      },
      "source": [
        "from sklearn.ensemble import RandomForestClassifier\n",
        "\n",
        "# n_estimators: 決定木の数  max_depth: 決定木の深さ\n",
        "model = RandomForestClassifier(n_estimators=100, max_depth=5)\n",
        "model = model.fit(x_train, t_train)"
      ],
      "execution_count": null,
      "outputs": []
    },
    {
      "cell_type": "markdown",
      "metadata": {
        "id": "3TvYry8HOm0m"
      },
      "source": [
        "## 結果の確認と提出\n",
        "`feature_importances_`により各特徴量の重要度を取得し、棒グラフで表示します。"
      ]
    },
    {
      "cell_type": "code",
      "metadata": {
        "execution": {
          "iopub.status.busy": "2021-06-07T06:24:32.391178Z",
          "iopub.execute_input": "2021-06-07T06:24:32.391769Z",
          "iopub.status.idle": "2021-06-07T06:24:32.631064Z",
          "shell.execute_reply.started": "2021-06-07T06:24:32.391721Z",
          "shell.execute_reply": "2021-06-07T06:24:32.630125Z"
        },
        "trusted": true,
        "id": "EFRJWtybOm0m"
      },
      "source": [
        "import matplotlib.pyplot as plt\n",
        "\n",
        "labels = x_train.columns\n",
        "importances = model.feature_importances_\n",
        "\n",
        "plt.figure(figsize = (10,6))\n",
        "plt.barh(range(len(importances)), importances)\n",
        "plt.yticks(range(len(labels)), labels)\n",
        "plt.show()"
      ],
      "execution_count": null,
      "outputs": []
    },
    {
      "cell_type": "markdown",
      "metadata": {
        "id": "K0PWUblbOm0m"
      },
      "source": [
        "テストデータを使って予測を行います。\n",
        "予測結果には、分類されるクラスを表す「Label」列と、そのクラスに含まれる確率を表す「Score」ラベルが含まれます。  \n",
        "形式を整えた上で提出用のcsvファイルとして保存します。"
      ]
    },
    {
      "cell_type": "code",
      "metadata": {
        "execution": {
          "iopub.status.busy": "2021-06-07T06:24:32.632682Z",
          "iopub.execute_input": "2021-06-07T06:24:32.633315Z",
          "iopub.status.idle": "2021-06-07T06:24:32.667287Z",
          "shell.execute_reply.started": "2021-06-07T06:24:32.633264Z",
          "shell.execute_reply": "2021-06-07T06:24:32.666436Z"
        },
        "trusted": true,
        "id": "Cf3ufj9MOm0m"
      },
      "source": [
        "# 判定\n",
        "y_test = model.predict(x_test)\n",
        "\n",
        "# 形式を整える\n",
        "survived_test = pd.Series(y_test, name=\"Survived\")\n",
        "subm_data = pd.concat([test_id, survived_test], axis=1)\n",
        "\n",
        "# 提出用のcsvファイルを保存\n",
        "subm_data.to_csv(\"submission_titanic.csv\", index=False)\n",
        "\n",
        "subm_data"
      ],
      "execution_count": null,
      "outputs": []
    }
  ]
}