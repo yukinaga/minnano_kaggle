{
  "nbformat": 4,
  "nbformat_minor": 0,
  "metadata": {
    "colab": {
      "name": "03_cross_validation.ipynb",
      "provenance": [],
      "collapsed_sections": [],
      "authorship_tag": "ABX9TyPXJFs0fELs2SJhdCMx8oUQ",
      "include_colab_link": true
    },
    "kernelspec": {
      "name": "python3",
      "display_name": "Python 3"
    },
    "language_info": {
      "name": "python"
    }
  },
  "cells": [
    {
      "cell_type": "markdown",
      "metadata": {
        "id": "view-in-github",
        "colab_type": "text"
      },
      "source": [
        "<a href=\"https://colab.research.google.com/github/yukinaga/minnano_kaggle/blob/main/section_3/03_cross_validation.ipynb\" target=\"_parent\"><img src=\"https://colab.research.google.com/assets/colab-badge.svg\" alt=\"Open In Colab\"/></a>"
      ]
    },
    {
      "cell_type": "markdown",
      "source": [
        "# 交差検証\n",
        "「交差検証」により、過学習の問題に対処します。 "
      ],
      "metadata": {
        "id": "E-QmT8-Qhgt9"
      }
    },
    {
      "cell_type": "markdown",
      "source": [
        "## データの準備\n",
        "必要なライブラリの導入、データの読み込みと加工を行います。"
      ],
      "metadata": {
        "id": "sW2dwjT2kYqQ"
      }
    },
    {
      "cell_type": "code",
      "source": [
        "import numpy as np\n",
        "import pandas as pd\n",
        "import matplotlib.pyplot as plt\n",
        "import seaborn as sns\n",
        "\n",
        "from sklearn.model_selection import StratifiedKFold\n",
        "from sklearn.metrics import accuracy_score\n",
        "\n",
        "import lightgbm as lgb\n",
        "\n",
        "train_data = pd.read_csv(\"train.csv\")  # 訓練データ\n",
        "test_data = pd.read_csv(\"test.csv\") # テストデータ\n",
        "\n",
        "test_id = test_data[\"PassengerId\"]  # 結果の提出時に使用\n",
        "\n",
        "data = pd.concat([train_data, test_data], sort=False)  # テストデータ、訓練データを結合\n",
        "\n",
        "# カテゴリデータの変換\n",
        "data[\"Sex\"].replace([\"male\", \"female\"], [0, 1], inplace=True)\n",
        "data[\"Embarked\"].fillna((\"S\"), inplace=True)\n",
        "data[\"Embarked\"] = data[\"Embarked\"].map({\"S\": 0, \"C\": 1, \"Q\": 2})\n",
        "\n",
        "# 欠損値を埋める\n",
        "data[\"Fare\"].fillna(data[\"Fare\"].mean(), inplace=True)\n",
        "data[\"Age\"].fillna(data[\"Age\"].mean(), inplace=True)\n",
        "\n",
        "# 新しい特徴量の作成\n",
        "data[\"Family\"] = data[\"Parch\"] + data[\"SibSp\"]\n",
        "\n",
        "# 不要な特徴量の削除\n",
        "data.drop([\"Name\", \"PassengerId\", \"SibSp\", \"Parch\", \"Ticket\", \"Cabin\"],\n",
        "          axis=1, inplace=True)\n",
        "\n",
        "# 入力と正解の作成\n",
        "train_data = data[:len(train_data)]\n",
        "test_data = data[len(train_data):]\n",
        "t = train_data[\"Survived\"]  # 正解\n",
        "x_train = train_data.drop(\"Survived\", axis=1)  # 訓練時の入力\n",
        "x_test = test_data.drop(\"Survived\", axis=1)  # テスト時の入力\n",
        "\n",
        "x_train.head()"
      ],
      "metadata": {
        "id": "Jwulz4eYsxZG"
      },
      "execution_count": null,
      "outputs": []
    },
    {
      "cell_type": "markdown",
      "source": [
        "## 交差検証\n",
        "scikit-learnの`StratifiedKFold`により交差検証を行います。  \n",
        "https://scikit-learn.org/stable/modules/generated/sklearn.model_selection.StratifiedKFold.html  \n",
        "`StratifiedKFold`を使えば検証用データ中の0と1の割合を一定に保つことができます。"
      ],
      "metadata": {
        "id": "mJypDLDg1lld"
      }
    },
    {
      "cell_type": "code",
      "source": [
        "y_valids = np.zeros((len(x_train),)) # 予測結果: 検証用データ\n",
        "y_tests = []  # 予測結果: テスト用データ\n",
        "\n",
        "skf = StratifiedKFold(n_splits=5, shuffle=True)\n",
        "\n",
        "# ハイパーパラメータの設定\n",
        "params = {\n",
        "    \"objective\": \"binary\",  # 二値分類\n",
        "    \"max_bin\": 300,  # 特徴量の最大分割数\n",
        "    \"learning_rate\": 0.05,  # 学習率\n",
        "    \"num_leaves\": 32  # 分岐の末端の最大数\n",
        "}\n",
        "\n",
        "categorical_features = [\"Embarked\", \"Pclass\", \"Sex\"]\n",
        "\n",
        "for _, (ids_train, ids_valid) in enumerate(skf.split(x_train, t)):\n",
        "    x_tr = x_train.loc[ids_train, :]\n",
        "    x_val = x_train.loc[ids_valid, :]\n",
        "    t_tr = t[ids_train]\n",
        "    t_val = t[ids_valid]\n",
        "\n",
        "    # データセットの作成\n",
        "    lgb_train = lgb.Dataset(x_tr, t_tr, categorical_feature=categorical_features)\n",
        "    lgb_val = lgb.Dataset(x_val, t_val, reference=lgb_train, categorical_feature=categorical_features)\n",
        "    \n",
        "    # モデルの訓練\n",
        "    model = lgb.train(params, lgb_train, valid_sets=[lgb_train, lgb_val],\n",
        "                      verbose_eval=20,  # 学習過程の表示間隔\n",
        "                      num_boost_round=500,  # 学習回数の最大値\n",
        "                      early_stopping_rounds=10)  # 連続して10回性能が向上しなければ終了\n",
        "\n",
        "    # 結果を保持\n",
        "    y_valids[ids_valid] = model.predict(x_val, num_iteration=model.best_iteration)\n",
        "    y_test = model.predict(x_test, num_iteration=model.best_iteration)\n",
        "    y_tests.append(y_test)"
      ],
      "metadata": {
        "id": "oeA3OUzc0Qld"
      },
      "execution_count": null,
      "outputs": []
    },
    {
      "cell_type": "markdown",
      "source": [
        "## 正解率\n",
        "検証用データによる予測結果と正解を使い、正解率を計算します。"
      ],
      "metadata": {
        "id": "wS5We0rU_vnG"
      }
    },
    {
      "cell_type": "code",
      "source": [
        "y_valids_bin = (y_valids>0.5).astype(int)  # 結果を0か1に\n",
        "accuracy_score(t, y_valids_bin)  # 正解率の計算"
      ],
      "metadata": {
        "id": "XYpY6tgX0uqm"
      },
      "execution_count": null,
      "outputs": []
    },
    {
      "cell_type": "markdown",
      "source": [
        "## 提出用のデータ\n",
        "提出量データの形式を整え、CSVファイルに保存します。"
      ],
      "metadata": {
        "id": "tHN33EZaAgwM"
      }
    },
    {
      "cell_type": "code",
      "source": [
        "y_test_subm = sum(y_tests) / len(y_tests)  # 平均をとる\n",
        "y_test_subm = (y_test > 0.5).astype(int)  # 結果を0か1に\n",
        "\n",
        "# 形式を整える\n",
        "survived_test = pd.Series(y_test_subm, name=\"Survived\")\n",
        "subm_data = pd.concat([test_id, survived_test], axis=1)\n",
        "\n",
        "# 提出用のcsvファイルを保存\n",
        "subm_data.to_csv(\"submission_titanic_cv.csv\", index=False)\n",
        "\n",
        "subm_data"
      ],
      "metadata": {
        "id": "TI9FZwRnAgwN"
      },
      "execution_count": null,
      "outputs": []
    }
  ]
}